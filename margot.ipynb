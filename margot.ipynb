{
 "cells": [
  {
   "cell_type": "code",
   "execution_count": 55,
   "metadata": {},
   "outputs": [],
   "source": [
    "from google.cloud import videointelligence_v1p3beta1\n",
    "from google.cloud.videointelligence_v1p3beta1 import enums\n",
    "from google.cloud import storage\n",
    "from google.oauth2 import service_account\n",
    "import os\n",
    "from collections import defaultdict"
   ]
  },
  {
   "cell_type": "code",
   "execution_count": 4,
   "metadata": {},
   "outputs": [],
   "source": [
    "CRED_DIR = 'creds'\n",
    "VIDEO_BUCKET = 'margot'"
   ]
  },
  {
   "cell_type": "code",
   "execution_count": 5,
   "metadata": {},
   "outputs": [],
   "source": [
    "credentials = service_account.Credentials.from_service_account_file(os.path.join(CRED_DIR, 'margot-ab6e92107352.json'))"
   ]
  },
  {
   "cell_type": "code",
   "execution_count": 6,
   "metadata": {},
   "outputs": [],
   "source": [
    "client_gs = storage.Client(project='margot', credentials=credentials)"
   ]
  },
  {
   "cell_type": "code",
   "execution_count": 51,
   "metadata": {},
   "outputs": [],
   "source": [
    "video_list = [b.name for b in client_gs.get_bucket(VIDEO_BUCKET).list_blobs()]"
   ]
  },
  {
   "cell_type": "code",
   "execution_count": 7,
   "metadata": {},
   "outputs": [],
   "source": [
    "client_vi = videointelligence_v1p3beta1.VideoIntelligenceServiceClient(credentials=credentials)"
   ]
  },
  {
   "cell_type": "code",
   "execution_count": 52,
   "metadata": {},
   "outputs": [],
   "source": [
    "features = [videointelligence_v1p3beta1.enums.Feature.SPEECH_TRANSCRIPTION]"
   ]
  },
  {
   "cell_type": "code",
   "execution_count": 53,
   "metadata": {},
   "outputs": [],
   "source": [
    "config = videointelligence_v1p3beta1.types.SpeechTranscriptionConfig(\n",
    "                language_code='en-US',\n",
    "                enable_automatic_punctuation=True)"
   ]
  },
  {
   "cell_type": "code",
   "execution_count": 54,
   "metadata": {},
   "outputs": [],
   "source": [
    "video_context = videointelligence_v1p3beta1.types.VideoContext(\n",
    "                    speech_transcription_config=config)"
   ]
  },
  {
   "cell_type": "code",
   "execution_count": 56,
   "metadata": {},
   "outputs": [
    {
     "name": "stdout",
     "output_type": "stream",
     "text": [
      "annotating 73 Questions With Margot Robbie _ Vogue-Bl5630CeYFs.mp4...\n",
      "annotating Guest Host Chris Pratt Interviews Margot Robbie-KjICBHj1EzM.webm...\n"
     ]
    }
   ],
   "source": [
    "margot_texts = defaultdict()\n",
    "\n",
    "for v in video_list[:2]:\n",
    "    \n",
    "    print(f'annotating {v}...')\n",
    "\n",
    "    res = client_vi.annotate_video(\n",
    "        input_uri=f'gs://{VIDEO_BUCKET}/{v}',\n",
    "        features=features,\n",
    "        video_context=video_context).result()\n",
    "    \n",
    "    texts = ''\n",
    "    \n",
    "    for _ in res.annotation_results[0].speech_transcriptions:\n",
    "        try:\n",
    "            texts += _.alternatives[0].transcript\n",
    "        except:\n",
    "            pass\n",
    "    \n",
    "    margot_texts[v] = texts"
   ]
  },
  {
   "cell_type": "code",
   "execution_count": 57,
   "metadata": {},
   "outputs": [
    {
     "data": {
      "text/plain": [
       "defaultdict(None,\n",
       "            {'73 Questions With Margot Robbie _ Vogue-Bl5630CeYFs.mp4': \"Hey Margo. Hi, so excited to be here at this beautiful Cottage asking you 73 questions. Yes, of course, come on in. Thank you. So, how did you start your day today? I had a nice cup of tea and I went for a swim. What do you have planned for the rest of the day having some friends over for brunch you could spend the day with anyone in the world? Who would that be JK Rowling? And what would you do? I would ask her 73 questions. No way. Yeah, I'd probably ask you like a million in 73 questions. But yeah, what's one thing that you would love to master? I'd really like to be good at pool. Are you a texter or a collar? I'm Nicola who was the last person that you call my cousin Julia? What'd you guys talk about? I asked her to bring some things over for brunch. Nice. Do you want a water or something callosum? Thank you. So you play piano? No, that's just kind of a impressive is the Australian national anthem Advance Australia Fair, right?An American that's amazing. Can I say what do you miss about Australia when you're in America I missed the thunderstorms. What do you miss about America when you're in Australia the convenience feel like everything's open. So late here for the 24 hours are spent anywhere in Australia. Where should I go? And what should I do Tasmania? I would tell you to go to the Mona who's an Australian. Everyone should know about Troye Sivan who's an actor you love to work with Matthias schoenaerts because a directory about to work with Wes Anderson would ever love to direct. Yeah. We always love watching on screen Tilda Swinton. What do you look for in a good script? Hmm. I want to be surprised but also satisfied do you have to be able to relay or like the character in order to play them? I do. Yeah comic book Buffs or historical experts who are harder to please a science numbers and I both really tough to imagine. Yeah favorite accent to do Franklin. How do you practice access? I find real life people on YouTube and then I just kind of mimic them.Huh? Hmm. They're moment on camera. That is truly shaking you. Yes, the saying I got to do is social Ronan in Mary Queen of Scots. What's her favorite scar? They son got it when I was a little kid favorite book. Um, Harry Potter favorite artist The Great River Bend it brand. I mean, I have a lot of it ELO favorite song right now the organ bullgunk song. All right. Well, you picked a beautiful day for a gathering. What does a typical brunch entail? Oh the girls outside drinking and all the guys inside cooking. What is your favorite Cuisine to cook? I'm not a good cook, but I can do a cheese board. Okay? Yeah. And what is your least favorite food to eat taramosalata? Have you had that? No its disgusting. Make sure I stay away. Yeah, what's been the most rewarding projects thus far in your career? I tell you why.Because I got to be a part of all the aspects of making that film hmm a producing or acting which you prefer. I love producing but acting will always be my big love. What about producing to do not expect so much paperwork would ever do theater. Yes, you make a documentary on any topic. What would it be why they shouldn't do oil drilling Drilling in The Great Australian Bight. You get Cameo on any TV show. What would it be? There's a wicked new show coming out and really called doll face its Lucky chap production. It's on the counter true or false. You've played in a rugby league. No false. I played on ice hockey team true or false you tattooed your Suicide Squad cast. That's true. I've already got a tattoo. What should I get in where to Salvador Dali elephants on your back at specific true or false for you. Shoot. Did I offer you a glass of water and not give it to you true? Sorry about that. It's okay Margo. What's your favorite lip color Chanel boy?Straight or natural wave hair natural way. What's that Australian Beauty ritual that you follow every day sunscreen. What was the last piece of clothing that you bought? What are y'all with t-shirt from Zimmerman had to distill your Peak signature style and one item of clothing. What would it be high-waisted pants? Thank you. What would you say is your most extravagant and expensive outfit that you've ever worn? I like the dress. I want to see Dad about this is kind of extravagant who's your favorite designer of all time concussion. What's the most method that you've ever gotten for a role? I'm not really a method actor, but I do find myself unintentionally behaving like a character after all. How did you prep to play share and tape?Let's rating watching a live films spent time with people that knew and I always work with an acting coach dialect coach movement coach Queen Elizabeth Harley Quinn, Tonya Harding each requiring crazy physical makeovers here is your prep process similar regardless of the character and the approaches similar the process always changes a little bit based on the character, but the approach is the same and inevitably a lot of time in the hair and makeup chair. Imagine having played several people that actually existed. How does that influence your performance? Well, I always feel a sense of responsibility for character whether they're real or not. But definitely an added sense of responsibility when they are real life people and you play characters from so many different eras. If you can go back and live in any of those periods, which would it be? What's the biggest positive change in Hollywood recently inclusivity what in the film world needs a drastic overhaul? Non creatives making creative decisions who's a voice in Hollywood that people should be listening to women all of them what female performer is blowing your mind right now Phoebe Walbridge love her. Hey cool surfboard. Yeah, imagine your professional level of Surfing right? I'm not a good stuff. But I just like doing it on a scale of one to ten. How good are you at? Ooh who has better beaches Australia are California Australia. I know you say that. What's her go through cocktail chanting. What's your Vice ice cream? What's a fashion trend that you think will definitely come back. Chunky 80s earrings. What is the fashion trend that you are positive will never grow old. Crisp white shirt blue jeans and what's a fashion trend you think should never see the light of day ever again stripy toe socks. I don't know if that was a thing here, but it was when I was a kid. All right. So where are you all headed to see planning a trip? Oh, no, I'm unpacking. Well, I should be unpacking. I'll do it later. But I just got back from Ken, huh? Well the best part about Camp eating croissants every day. What's the city that you're headed to next London? What country have you never visited? But you're dying to get there. Chill Anka picture Leah. When have you felt most Starstruck when I'm at 50 Cent. What is your favorite account? It's a follow on social media tiny kitchens. They make little food. It's really cute. Hey, no, who's this? This is my cousin Julia. Hey, feel free to ask a question. What should I do with this tax at the back, please? Okay. Last question I have for you Margo. I'm so excited for Once Upon a Time in Hollywood. Yeah. What was it like working with Quentin Tarantino? It was the best ever. There are no cell phones on set. I don't think Quentin even owns one and every hundred rolls of film everyone stops and has a drink and celebrate. I think you and I have a lot to celebrate right now because we concluded our in to do I'll have a drink for the both of us. Sounds good Market, this is great. Thanks so much, bye-bye.\",\n",
       "             'Guest Host Chris Pratt Interviews Margot Robbie-KjICBHj1EzM.webm': \"Hello, this is a great show you doing such a good job. I am oh my God, it's the thank you. Thank you. I had a lot of fun with monologue, but now let's get down to brass tacks. Okay? Kangaroos did a donkey rabbit what I wouldn't They have a donkey face, but a rabbit hop. Oh, I see what you're saying. I had no idea where that was going to be really a donkey eyes and I see I don't know. Maybe I hadn't we got a conclusive maybe from the Austria now you are from Australia. If you can't tell from the accent and when you see your work people wouldn't know that because you do such a great American accent, but you are Australian. Where did you grow up on the Gold Coast but I grew up in the hinterland part of the Gold Coast. Okay, the hinterland. Oh, that means like it's like, you know, I grew up in property. Okay fields, and now I know I've been to I don't I don't support like this. Like I hate The Stereotype like everyone thinks. Oh, you're from Australia. They were creepy crawly poisonous venomous things all over the place, but are there creepy crawly poisonous venomous things all over the place. I mean kind of if it's not something you concentrate on when you're growing up. But yeah that mean there's tons of poison. I think there's like a large percentage of the poison. Makes the world reside in Australia and spiders and wow shocks have you so you had there's like sharks and poisonous spiders and snakes a lot of dangerous creatures growing up but it's fine. I mean you don't when you're when you live there you don't you don't worry about it or think about it. I mean they're there but I didn't it didn't really seem like a big deal like of 10 of your closest friends growing up how many of them were killed by poison seven. No. No, I don't mean I don't even know I mean I grew up on property and I don't even know someone who is I had snakes like literally in my house growing up but not on purpose like by, you know, they would get into the house or whatever. What kind of snakes they what would be like the biggest like you want like a like a carpet python if they've got like a gold pattern on their back then Kinder a copper pipe in the end the they're fine. I mean for sometimes if they're little often, they're probably more poisonous. So you kind of like get them out with the stick instead of picking it up, but the stick yeah, like like a stick you can you keep a stick. Stick up like this one time. I was my mom came. I was I was in my bratty teen years and my mom came in said oh this can you help me get the snake out of the house and I was like Mom, I'm really busy on MSN like No And she was like, it's a big one though like an you and I was like so busy mom no, and then she like went away and 10 minutes later. I was like, where's mom and that's when my mom got eaten? No, she didn't. Of giant snake from your mom would I stick this stick method other than like instances like that? I felt no danger at all growing up in Australia. So just completely shifting topics to like a more James lift any kind of question. If you could have lunch with any celebrity, huh living or dead, would you take them to Outback Steakhouse? I've actually never eaten at an Outback Steakhouse. I'm ruining every I shouldn't have said that I should have lied. Let me ask you this. I heard that they do have Outback Steakhouse in Australia. Yeah for sure an ex-boyfriend of mine. There's like a challenge if you eat, I think it's like a kilo of steak and all the like you eat all this stuff you get a free t-shirt. Yeah and a boyfriend of mine way back when tried to do the challenge, but he was literally like vomiting as he was trying to keep eating it to win this t-shirt. He got there in the end. You got this you got the shirt. Yeah dang, but he didn't get Margot Robbie. Did he sorry pal? Speaking of restaurants. Did you ever did you have like a normal upbringing did you ever I work in a restaurant? Did you ever work in a restaurant growing up? I did I did I worked in a restaurant from I think about 10 to 15 guys. So I was working really young. Well, I was you. All right. Well, I started like back in the kitchens. I was like polishing Cutlery and then I upgraded to peeling potatoes and then I was a dish Pig and then I was a waitress and then by about 14 I was behind the bar and that was like the fun part. Whoa 14 behind the bar that legal in Australia. No, it's not. I don't know. Sometimes I had be like giving someone a drink and they'll be like yeah to peers. Are you old enough to give me there and I was like you want to be or not know like well, yeah so that I got away with it. That's nice. No, it's not legal. It's not is that legal do you have what's in a rum and coke? It's a tough one a lot of ramen little bit of coke. Are you more of like a beer person or like whiskey person? Beer definitely a Beer Drinker. Can I get some beer anyone Guillermo? Can you bring us a couple beers? Yeah. Sure. It does tonight outside grip when I come back. You're going to see the lovely Margot Robbie and I have a beer so don't go anywhere .8 I get a fair shot here because I'm up at 5:00 every morning working my ass off to someone want to just tell me to my face you're never going to give me the scores I deserve this is how it's done. Some of these girls have paid their dues. Give it a out skated him today. We also judged on presentation. Well, you know what if you can come up with $5,000 for a costume for me, then I won't have to make one till then just stay out of my face. Maybe you're just not as good as you think. Maybe you should pick another sport. Suck my dick now. I don't want you to spoil the movie. Does she end up sucking your yeah, that's how it is. Actually one of the rare things that Tanya actually didn't say but when she saw the movie the real Tonya Harding, I mean she was like, I love that line. I wish I had actually said Thank you. Thank you. Thank you. I can actually have a party trick I can open this. I can only are finding with already on Earth and beers though, so I can't open. Yeah mode you yeah. Sure. I help you prepare. This is amazing. Hey, cheers. She's the I Tanya. So I'm curious about this because you made a movie about a real person an Infamous figure skater. I mean, she's Tonya Harding everybody. What's that? Like is she part of the process is does she is she there on said did you meet her? How did that work? I met her. She wasn't a consultant on set. She wasn't she already did a series of interviews with her and and then he did a series of interviews with Jeff gillooly and both their stories contradict to contradicted each other so much that he thought that was the best way to tell the story to have all these unreliable narrators, you know, with contradicting storylines and kind of let the audience decide for themselves how it happened. So I flew to meet her right before we started shooting and other than that she wasn't on set or anything but we showed her the movie right before we premiered at torrent. Oh, so yeah, do you think she's watching this right now? I don't know. I didn't think about that if you are. Hi Tanya, what's up, Tonya Harding? What's up Tonya? I like the movie. I thought it was really Right and I think and I think you nailed the character of Tonya Harding that's got to be an interesting and difficult thing to do meeting somebody but then telling a story when there's so many conflicting perspectives on how the story went down. Now your didn't know the skating is off the chain. Like did you how long did you train to with with the skating? It did a lot of training I did I did maybe whole months of training for five months. It was like five days a week three four hours a day. It was the what compared to what an olympic-level I've skated with Tonya Harding I didn't but when I did meet her she was she was so lovely when I met her she was more worried about me than I was about her and she was like, how you going with the skating and I said, well, it's I mean, it's really really hard actually and she's like, do you need any tip like, do you want me to help we can go to the ice skating rink now like to have your skates with you and I was like, well, they didn't let me bring them on the plane. So no bright but it should have told her that you should have said that they were Support skates I should have any good brought on by Tanya is in theaters, Friday Margot Robbie everyone. Thanks for watching. If you like that subscribe to our YouTube channel for all the latest videos and if you didn't subscribe anyway, it's free. Who cares?\"})"
      ]
     },
     "execution_count": 57,
     "metadata": {},
     "output_type": "execute_result"
    }
   ],
   "source": [
    "margot_texts"
   ]
  },
  {
   "cell_type": "code",
   "execution_count": null,
   "metadata": {},
   "outputs": [],
   "source": [
    "from chatterbot import ChatBot\n",
    "from chatterbot.trainers import ChatterBotCorpusTrainer"
   ]
  }
 ],
 "metadata": {
  "kernelspec": {
   "display_name": "Python 3",
   "language": "python",
   "name": "python3"
  },
  "language_info": {
   "codemirror_mode": {
    "name": "ipython",
    "version": 3
   },
   "file_extension": ".py",
   "mimetype": "text/x-python",
   "name": "python",
   "nbconvert_exporter": "python",
   "pygments_lexer": "ipython3",
   "version": "3.7.3"
  }
 },
 "nbformat": 4,
 "nbformat_minor": 4
}
